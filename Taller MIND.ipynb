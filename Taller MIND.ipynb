{
 "cells": [
  {
   "cell_type": "markdown",
   "metadata": {},
   "source": [
    "# Taller MIND 01\n",
    "### Nombre: Edgar Ronaldo Henao Villarreal"
   ]
  },
  {
   "cell_type": "markdown",
   "metadata": {},
   "source": [
    "Antes de comenzar el taller, iniciaremos con algunas importaciones esenciales para el desarrollo del mismo."
   ]
  },
  {
   "cell_type": "code",
   "execution_count": 1,
   "metadata": {},
   "outputs": [],
   "source": [
    "import csv\n",
    "import statistics as stats\n",
    "import numpy as np\n",
    "import matplotlib.pyplot as plt\n",
    "import pandas as pd"
   ]
  },
  {
   "cell_type": "markdown",
   "metadata": {},
   "source": [
    "---\n",
    "1. Cargar el archivo cvs suministrado *titanic.cvs*"
   ]
  },
  {
   "cell_type": "code",
   "execution_count": 2,
   "metadata": {},
   "outputs": [
    {
     "data": {
      "text/html": [
       "<div>\n",
       "<style scoped>\n",
       "    .dataframe tbody tr th:only-of-type {\n",
       "        vertical-align: middle;\n",
       "    }\n",
       "\n",
       "    .dataframe tbody tr th {\n",
       "        vertical-align: top;\n",
       "    }\n",
       "\n",
       "    .dataframe thead th {\n",
       "        text-align: right;\n",
       "    }\n",
       "</style>\n",
       "<table border=\"1\" class=\"dataframe\">\n",
       "  <thead>\n",
       "    <tr style=\"text-align: right;\">\n",
       "      <th></th>\n",
       "      <th>PassengerId</th>\n",
       "      <th>Survived</th>\n",
       "      <th>Pclass</th>\n",
       "      <th>Name</th>\n",
       "      <th>Sex</th>\n",
       "      <th>Age</th>\n",
       "      <th>SibSp</th>\n",
       "      <th>Parch</th>\n",
       "      <th>Ticket</th>\n",
       "      <th>Fare</th>\n",
       "      <th>Cabin</th>\n",
       "      <th>Embarked</th>\n",
       "    </tr>\n",
       "  </thead>\n",
       "  <tbody>\n",
       "    <tr>\n",
       "      <th>0</th>\n",
       "      <td>1</td>\n",
       "      <td>0</td>\n",
       "      <td>3</td>\n",
       "      <td>Braund, Mr. Owen Harris</td>\n",
       "      <td>male</td>\n",
       "      <td>22.0</td>\n",
       "      <td>1</td>\n",
       "      <td>0</td>\n",
       "      <td>A/5 21171</td>\n",
       "      <td>7.2500</td>\n",
       "      <td>NaN</td>\n",
       "      <td>S</td>\n",
       "    </tr>\n",
       "    <tr>\n",
       "      <th>1</th>\n",
       "      <td>2</td>\n",
       "      <td>1</td>\n",
       "      <td>1</td>\n",
       "      <td>Cumings, Mrs. John Bradley (Florence Briggs Th...</td>\n",
       "      <td>female</td>\n",
       "      <td>38.0</td>\n",
       "      <td>1</td>\n",
       "      <td>0</td>\n",
       "      <td>PC 17599</td>\n",
       "      <td>71.2833</td>\n",
       "      <td>C85</td>\n",
       "      <td>C</td>\n",
       "    </tr>\n",
       "    <tr>\n",
       "      <th>2</th>\n",
       "      <td>3</td>\n",
       "      <td>1</td>\n",
       "      <td>3</td>\n",
       "      <td>Heikkinen, Miss. Laina</td>\n",
       "      <td>female</td>\n",
       "      <td>26.0</td>\n",
       "      <td>0</td>\n",
       "      <td>0</td>\n",
       "      <td>STON/O2. 3101282</td>\n",
       "      <td>7.9250</td>\n",
       "      <td>NaN</td>\n",
       "      <td>S</td>\n",
       "    </tr>\n",
       "    <tr>\n",
       "      <th>3</th>\n",
       "      <td>4</td>\n",
       "      <td>1</td>\n",
       "      <td>1</td>\n",
       "      <td>Futrelle, Mrs. Jacques Heath (Lily May Peel)</td>\n",
       "      <td>female</td>\n",
       "      <td>35.0</td>\n",
       "      <td>1</td>\n",
       "      <td>0</td>\n",
       "      <td>113803</td>\n",
       "      <td>53.1000</td>\n",
       "      <td>C123</td>\n",
       "      <td>S</td>\n",
       "    </tr>\n",
       "    <tr>\n",
       "      <th>4</th>\n",
       "      <td>5</td>\n",
       "      <td>0</td>\n",
       "      <td>3</td>\n",
       "      <td>Allen, Mr. William Henry</td>\n",
       "      <td>male</td>\n",
       "      <td>35.0</td>\n",
       "      <td>0</td>\n",
       "      <td>0</td>\n",
       "      <td>373450</td>\n",
       "      <td>8.0500</td>\n",
       "      <td>NaN</td>\n",
       "      <td>S</td>\n",
       "    </tr>\n",
       "    <tr>\n",
       "      <th>...</th>\n",
       "      <td>...</td>\n",
       "      <td>...</td>\n",
       "      <td>...</td>\n",
       "      <td>...</td>\n",
       "      <td>...</td>\n",
       "      <td>...</td>\n",
       "      <td>...</td>\n",
       "      <td>...</td>\n",
       "      <td>...</td>\n",
       "      <td>...</td>\n",
       "      <td>...</td>\n",
       "      <td>...</td>\n",
       "    </tr>\n",
       "    <tr>\n",
       "      <th>886</th>\n",
       "      <td>887</td>\n",
       "      <td>0</td>\n",
       "      <td>2</td>\n",
       "      <td>Montvila, Rev. Juozas</td>\n",
       "      <td>male</td>\n",
       "      <td>27.0</td>\n",
       "      <td>0</td>\n",
       "      <td>0</td>\n",
       "      <td>211536</td>\n",
       "      <td>13.0000</td>\n",
       "      <td>NaN</td>\n",
       "      <td>S</td>\n",
       "    </tr>\n",
       "    <tr>\n",
       "      <th>887</th>\n",
       "      <td>888</td>\n",
       "      <td>1</td>\n",
       "      <td>1</td>\n",
       "      <td>Graham, Miss. Margaret Edith</td>\n",
       "      <td>female</td>\n",
       "      <td>19.0</td>\n",
       "      <td>0</td>\n",
       "      <td>0</td>\n",
       "      <td>112053</td>\n",
       "      <td>30.0000</td>\n",
       "      <td>B42</td>\n",
       "      <td>S</td>\n",
       "    </tr>\n",
       "    <tr>\n",
       "      <th>888</th>\n",
       "      <td>889</td>\n",
       "      <td>0</td>\n",
       "      <td>3</td>\n",
       "      <td>Johnston, Miss. Catherine Helen \"Carrie\"</td>\n",
       "      <td>female</td>\n",
       "      <td>NaN</td>\n",
       "      <td>1</td>\n",
       "      <td>2</td>\n",
       "      <td>W./C. 6607</td>\n",
       "      <td>23.4500</td>\n",
       "      <td>NaN</td>\n",
       "      <td>S</td>\n",
       "    </tr>\n",
       "    <tr>\n",
       "      <th>889</th>\n",
       "      <td>890</td>\n",
       "      <td>1</td>\n",
       "      <td>1</td>\n",
       "      <td>Behr, Mr. Karl Howell</td>\n",
       "      <td>male</td>\n",
       "      <td>26.0</td>\n",
       "      <td>0</td>\n",
       "      <td>0</td>\n",
       "      <td>111369</td>\n",
       "      <td>30.0000</td>\n",
       "      <td>C148</td>\n",
       "      <td>C</td>\n",
       "    </tr>\n",
       "    <tr>\n",
       "      <th>890</th>\n",
       "      <td>891</td>\n",
       "      <td>0</td>\n",
       "      <td>3</td>\n",
       "      <td>Dooley, Mr. Patrick</td>\n",
       "      <td>male</td>\n",
       "      <td>32.0</td>\n",
       "      <td>0</td>\n",
       "      <td>0</td>\n",
       "      <td>370376</td>\n",
       "      <td>7.7500</td>\n",
       "      <td>NaN</td>\n",
       "      <td>Q</td>\n",
       "    </tr>\n",
       "  </tbody>\n",
       "</table>\n",
       "<p>891 rows × 12 columns</p>\n",
       "</div>"
      ],
      "text/plain": [
       "     PassengerId  Survived  Pclass  \\\n",
       "0              1         0       3   \n",
       "1              2         1       1   \n",
       "2              3         1       3   \n",
       "3              4         1       1   \n",
       "4              5         0       3   \n",
       "..           ...       ...     ...   \n",
       "886          887         0       2   \n",
       "887          888         1       1   \n",
       "888          889         0       3   \n",
       "889          890         1       1   \n",
       "890          891         0       3   \n",
       "\n",
       "                                                  Name     Sex   Age  SibSp  \\\n",
       "0                              Braund, Mr. Owen Harris    male  22.0      1   \n",
       "1    Cumings, Mrs. John Bradley (Florence Briggs Th...  female  38.0      1   \n",
       "2                               Heikkinen, Miss. Laina  female  26.0      0   \n",
       "3         Futrelle, Mrs. Jacques Heath (Lily May Peel)  female  35.0      1   \n",
       "4                             Allen, Mr. William Henry    male  35.0      0   \n",
       "..                                                 ...     ...   ...    ...   \n",
       "886                              Montvila, Rev. Juozas    male  27.0      0   \n",
       "887                       Graham, Miss. Margaret Edith  female  19.0      0   \n",
       "888           Johnston, Miss. Catherine Helen \"Carrie\"  female   NaN      1   \n",
       "889                              Behr, Mr. Karl Howell    male  26.0      0   \n",
       "890                                Dooley, Mr. Patrick    male  32.0      0   \n",
       "\n",
       "     Parch            Ticket     Fare Cabin Embarked  \n",
       "0        0         A/5 21171   7.2500   NaN        S  \n",
       "1        0          PC 17599  71.2833   C85        C  \n",
       "2        0  STON/O2. 3101282   7.9250   NaN        S  \n",
       "3        0            113803  53.1000  C123        S  \n",
       "4        0            373450   8.0500   NaN        S  \n",
       "..     ...               ...      ...   ...      ...  \n",
       "886      0            211536  13.0000   NaN        S  \n",
       "887      0            112053  30.0000   B42        S  \n",
       "888      2        W./C. 6607  23.4500   NaN        S  \n",
       "889      0            111369  30.0000  C148        C  \n",
       "890      0            370376   7.7500   NaN        Q  \n",
       "\n",
       "[891 rows x 12 columns]"
      ]
     },
     "execution_count": 2,
     "metadata": {},
     "output_type": "execute_result"
    }
   ],
   "source": [
    "\n",
    "def inicio():\n",
    "    df = pd.read_csv ('titanic.csv')\n",
    "    return df\n",
    "inicio()\n"
   ]
  },
  {
   "cell_type": "markdown",
   "metadata": {},
   "source": [
    "---\n",
    "2. Calcular y mostrar el valor de la media y la mediana de las edades de las personas que viajaban en el\n",
    "barco y sobrevivieron"
   ]
  },
  {
   "cell_type": "code",
   "execution_count": 3,
   "metadata": {},
   "outputs": [
    {
     "name": "stdout",
     "output_type": "stream",
     "text": [
      "La media de la edad de los sobrevivientes es 28.34\n",
      "La mediana de la edad de los sobrevivientes es 28\n"
     ]
    }
   ],
   "source": [
    "def extraerEdades(reader):\n",
    "    \"\"\"Media (promedio) de una lista de valores, usando la libreria statistics\"\"\"\n",
    "    ages = reader[reader[\"Survived\"] == 1][\"Age\"].mean()\n",
    "    print(\"La media de la edad de los sobrevivientes es {media:.2f}\".format(media = ages))\n",
    "    ages = reader[reader[\"Survived\"] == 1][\"Age\"].median()\n",
    "    print(\"La mediana de la edad de los sobrevivientes es {mediana:.0f}\".format(mediana = ages))\n",
    "    \n",
    "def punto2():\n",
    "    \"\"\"Solucion del punto solicitado\"\"\"\n",
    "    extraerEdades(inicio())\n",
    "punto2()"
   ]
  },
  {
   "cell_type": "markdown",
   "metadata": {},
   "source": [
    "---\n",
    "3. Mostrar la cantidad de personas que viajaban en el barco en cada una de las tres clases."
   ]
  },
  {
   "cell_type": "code",
   "execution_count": 4,
   "metadata": {
    "scrolled": true
   },
   "outputs": [
    {
     "name": "stdout",
     "output_type": "stream",
     "text": [
      "El numero de personas que viajaban de clase 1 es 216\n",
      "El numero de personas que viajaban de clase 2 es 184\n",
      "El numero de personas que viajaban de clase 3 es 491\n"
     ]
    }
   ],
   "source": [
    "def contarPasajeros(reader):\n",
    "    \"\"\"Cuenta la cantidad de pasajeros en cada clase, si se le agrega la lista de los que sobrevivieron y los que no, hace\n",
    "    la respectiva discriminacion\"\"\"\n",
    "    class1 = reader[reader[\"Pclass\"] == 1][\"Pclass\"].count()\n",
    "    class2 = reader[reader[\"Pclass\"] == 2][\"Pclass\"].count()\n",
    "    class3 = reader[reader[\"Pclass\"] == 3][\"Pclass\"].count()\n",
    "    print(\"El numero de personas que viajaban de clase 1 es\",class1)\n",
    "    print(\"El numero de personas que viajaban de clase 2 es\",class2)\n",
    "    print(\"El numero de personas que viajaban de clase 3 es\",class3)\n",
    "def punto3():\n",
    "    #l1 = sacarColumna(inicio(),2)\n",
    "    contarPasajeros(inicio())\n",
    "punto3()"
   ]
  },
  {
   "cell_type": "markdown",
   "metadata": {},
   "source": [
    "---\n",
    "4. Mostrar la cantidad de personas que viajaban en el barco en cada una de las tres clases dicriminando\n",
    "por sobrevivientes y no sobrevivientes."
   ]
  },
  {
   "cell_type": "code",
   "execution_count": 5,
   "metadata": {},
   "outputs": [
    {
     "name": "stdout",
     "output_type": "stream",
     "text": [
      "El numero de personas que viajaban de clase 1 y sobrevivieron es 136 y fallecieron 80\n",
      "El numero de personas que viajaban de clase 2 y sobrevivieron es 87 y fallecieron 97\n",
      "El numero de personas que viajaban de clase 3 y sobrevivieron es 119 y fallecieron 372\n"
     ]
    }
   ],
   "source": [
    "def contarPasajerosExtend(reader):\n",
    "    class10 = reader[(reader[\"Survived\"] == 0) & (reader[\"Pclass\"] == 1)][\"Pclass\"].count()\n",
    "    class11 = reader[(reader[\"Survived\"] == 1) & (reader[\"Pclass\"] == 1)][\"Pclass\"].count()\n",
    "    class20 = reader[(reader[\"Survived\"] == 0) & (reader[\"Pclass\"] == 2)][\"Pclass\"].count()\n",
    "    class21 = reader[(reader[\"Survived\"] == 1) & (reader[\"Pclass\"] == 2)][\"Pclass\"].count()\n",
    "    class30 = reader[(reader[\"Survived\"] == 0) & (reader[\"Pclass\"] == 3)][\"Pclass\"].count()\n",
    "    class31 = reader[(reader[\"Survived\"] == 1) & (reader[\"Pclass\"] == 3)][\"Pclass\"].count()\n",
    "    print(\"El numero de personas que viajaban de clase 1 y sobrevivieron es\",class11,\"y fallecieron\",class10)\n",
    "    print(\"El numero de personas que viajaban de clase 2 y sobrevivieron es\",class21,\"y fallecieron\",class20)\n",
    "    print(\"El numero de personas que viajaban de clase 3 y sobrevivieron es\",class31,\"y fallecieron\",class30)\n",
    "  \n",
    "def punto4():\n",
    "    contarPasajerosExtend(inicio())\n",
    "punto4()"
   ]
  },
  {
   "cell_type": "markdown",
   "metadata": {},
   "source": [
    "---\n",
    "5. Calcular y mostrar el valor del tiquete más ecónomico, más costoso y el valor promedio."
   ]
  },
  {
   "cell_type": "code",
   "execution_count": 6,
   "metadata": {
    "scrolled": true
   },
   "outputs": [
    {
     "name": "stdout",
     "output_type": "stream",
     "text": [
      "El valor del tiquete mas economico es  0.0\n",
      "El valor del tiquete mas costoso es 512.3292\n",
      "El valor promedio de los tiquetes es 32.204\n"
     ]
    }
   ],
   "source": [
    "def punto5(reader):\n",
    "    minfare = reader[\"Fare\"].min()\n",
    "    maxfare = reader[\"Fare\"].max()\n",
    "    media = reader[\"Fare\"].mean()\n",
    "    print(\"El valor del tiquete mas economico es \",minfare)\n",
    "    print(\"El valor del tiquete mas costoso es\",maxfare)\n",
    "    print(\"El valor promedio de los tiquetes es\",round(media,3))\n",
    "punto5(inicio())"
   ]
  },
  {
   "cell_type": "markdown",
   "metadata": {},
   "source": [
    "---\n",
    "6. Realice un diagrama de barras (barplot) que permita visualizar la cantidad de personas por género"
   ]
  },
  {
   "cell_type": "code",
   "execution_count": 7,
   "metadata": {},
   "outputs": [
    {
     "data": {
      "image/png": "[encoded data removed]",
      "text/plain": [
       "<Figure size 432x288 with 1 Axes>"
      ]
     },
     "metadata": {
      "needs_background": "light"
     },
     "output_type": "display_data"
    }
   ],
   "source": [
    "def punto6(reader):\n",
    "    reader.groupby('Sex')[\"PassengerId\"].count().plot(kind = 'bar',color = ['blue','red'])\n",
    "\n",
    "punto6(inicio())"
   ]
  },
  {
   "cell_type": "markdown",
   "metadata": {},
   "source": [
    "---\n",
    "7. Realice un diagrama de barras (barplot) que permita visualizar la cantidad de personas por tipo de\n",
    "tiquete."
   ]
  },
  {
   "cell_type": "code",
   "execution_count": 8,
   "metadata": {
    "scrolled": true
   },
   "outputs": [
    {
     "data": {
      "image/png": "[encoded data removed]",
      "text/plain": [
       "<Figure size 432x288 with 1 Axes>"
      ]
     },
     "metadata": {
      "needs_background": "light"
     },
     "output_type": "display_data"
    }
   ],
   "source": [
    "def punto7(reader): \n",
    "    reader.groupby('Pclass')[\"PassengerId\"].count().plot(kind = 'bar',color = [\"yellow\",\"blue\",\"red\"])\n",
    "punto7(inicio())"
   ]
  },
  {
   "cell_type": "markdown",
   "metadata": {},
   "source": [
    "---\n",
    "8. Realice un diagrama de caja (boxplot) con los datos de las edades. ¿Cuál es su interpretación a lo\n",
    "visualizado en el gráfico?"
   ]
  },
  {
   "cell_type": "code",
   "execution_count": 9,
   "metadata": {
    "scrolled": true
   },
   "outputs": [
    {
     "data": {
      "image/png": "[encoded data removed]",
      "text/plain": [
       "<Figure size 432x288 with 1 Axes>"
      ]
     },
     "metadata": {
      "needs_background": "light"
     },
     "output_type": "display_data"
    }
   ],
   "source": [
    "def punto8(reader):\n",
    "    reader.boxplot(column=['Age'],color = \"blue\") \n",
    "punto8(inicio())"
   ]
  },
  {
   "cell_type": "markdown",
   "metadata": {},
   "source": [
    "**Interpretacion**\n",
    "\n",
    "En el grafico de caja y bigotes observamos que la asimetria esta sesgada a la derecha, lo cual se refuerza con los resultados de que la media es mayor a la mediana y vemos un rango menos amplio, lo cual muestra datos mas proximos. Los valores atipicos se muestran mayores a la edad de 65 años y menores a los 75 años. En pocas palabras, el diagrama muestra que la dispersion de las edades es ligera."
   ]
  },
  {
   "cell_type": "markdown",
   "metadata": {},
   "source": [
    "---\n",
    "9. Para cada una de las variables muestre el consolidado de la siguiente información: valor mínimo,\n",
    "primer cuartil, promedio, tercer cuartil y valor máximo. Recuerde se requiere para cada variable.\n",
    "\n",
    "Para este punto las variables con las que se puede trabajar son:\n",
    "* Age\n",
    "* SibSp\n",
    "* Parch\n",
    "* Fare"
   ]
  },
  {
   "cell_type": "code",
   "execution_count": 10,
   "metadata": {},
   "outputs": [
    {
     "name": "stdout",
     "output_type": "stream",
     "text": [
      "La edad minima es 0.42\n",
      "El cuantil 1 es 20.125\n",
      "El cuantil 3 es 38.0\n",
      "La edad maxima es 80.0\n"
     ]
    }
   ],
   "source": [
    "def punto9Age(reader):\n",
    "    mini =  reader[\"Age\"].min()\n",
    "    q1 = reader[\"Age\"].quantile(0.25)\n",
    "    q3 = reader[\"Age\"].quantile(0.75)\n",
    "    maxi =  reader[\"Age\"].max()\n",
    "    print(\"La edad minima es\",mini)\n",
    "    print(\"El cuantil 1 es\",q1)\n",
    "    print(\"El cuantil 3 es\",q3)\n",
    "    print(\"La edad maxima es\",maxi)\n",
    "punto9Age(inicio())"
   ]
  },
  {
   "cell_type": "code",
   "execution_count": 11,
   "metadata": {},
   "outputs": [
    {
     "name": "stdout",
     "output_type": "stream",
     "text": [
      "Numero de relacionados minimo es 0\n",
      "El primer cuartil es 0.0\n",
      "El tercer cuartil es 1.0\n",
      "Numero de relacionados maximo es 8\n"
     ]
    }
   ],
   "source": [
    "def punto9SibSp(reader):\n",
    "    SibSpMin = reader[\"SibSp\"].min()\n",
    "    q1 = reader[\"SibSp\"].quantile(0.25)\n",
    "    q3 = reader[\"SibSp\"].quantile(0.75)\n",
    "    SibSpMax = reader[\"SibSp\"].max()\n",
    "    print(\"Numero de relacionados minimo es\", SibSpMin)\n",
    "    print(\"El primer cuartil es\", q1)\n",
    "    print(\"El tercer cuartil es\", q3)\n",
    "    print(\"Numero de relacionados maximo es\",SibSpMax)\n",
    "punto9SibSp(inicio())"
   ]
  },
  {
   "cell_type": "code",
   "execution_count": 12,
   "metadata": {},
   "outputs": [
    {
     "name": "stdout",
     "output_type": "stream",
     "text": [
      "Numero de padres/hijos minimo es 0\n",
      "El primer cuartil es 0.0\n",
      "El tercer cuartil es 0.0\n",
      "Numero de padres/hijos maximo es 6\n"
     ]
    }
   ],
   "source": [
    "def punto9Parch(reader):\n",
    "    minParch = reader[\"Parch\"].min()\n",
    "    q1 = reader[\"Parch\"].quantile(0.25)\n",
    "    q3 = reader[\"Parch\"].quantile(0.75)\n",
    "    maxParch = reader[\"Parch\"].max()\n",
    "    print(\"Numero de padres/hijos minimo es\", minParch)\n",
    "    print(\"El primer cuartil es\", q1)\n",
    "    print(\"El tercer cuartil es\", q3)\n",
    "    print(\"Numero de padres/hijos maximo es\",maxParch)\n",
    "punto9Parch(inicio())"
   ]
  },
  {
   "cell_type": "code",
   "execution_count": 13,
   "metadata": {},
   "outputs": [
    {
     "name": "stdout",
     "output_type": "stream",
     "text": [
      "El valor de tiquete maximo es 512.3292\n",
      "El primer cuartil es 7.9104\n",
      "El tercer cuartil es 31.0\n",
      "El valor de tiquete minimo es 0.0\n"
     ]
    }
   ],
   "source": [
    "def punto9Fare(reader):\n",
    "    minFare = reader[\"Fare\"].min()\n",
    "    q1 = reader[\"Fare\"].quantile(0.25)\n",
    "    q3 = reader[\"Fare\"].quantile(0.75)\n",
    "    maxFare = reader[\"Fare\"].max() \n",
    "    print(\"El valor de tiquete maximo es\", maxFare)\n",
    "    print(\"El primer cuartil es\", q1)\n",
    "    print(\"El tercer cuartil es\", q3)\n",
    "    print(\"El valor de tiquete minimo es\",minFare)\n",
    "punto9Fare(inicio())"
   ]
  },
  {
   "cell_type": "code",
   "execution_count": null,
   "metadata": {},
   "outputs": [],
   "source": []
  }
 ],
 "metadata": {
  "kernelspec": {
   "display_name": "Python 3",
   "language": "python",
   "name": "python3"
  },
  "language_info": {
   "codemirror_mode": {
    "name": "ipython",
    "version": 3
   },
   "file_extension": ".py",
   "mimetype": "text/x-python",
   "name": "python",
   "nbconvert_exporter": "python",
   "pygments_lexer": "ipython3",
   "version": "3.8.3"
  }
 },
 "nbformat": 4,
 "nbformat_minor": 4
}
